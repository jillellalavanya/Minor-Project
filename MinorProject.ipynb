{
  "nbformat": 4,
  "nbformat_minor": 0,
  "metadata": {
    "colab": {
      "name": "MinorProject.ipynb",
      "provenance": [],
      "collapsed_sections": [],
      "authorship_tag": "ABX9TyOX79epljkgS5bA8iALIEZ7",
      "include_colab_link": true
    },
    "kernelspec": {
      "name": "python3",
      "display_name": "Python 3"
    },
    "language_info": {
      "name": "python"
    }
  },
  "cells": [
    {
      "cell_type": "markdown",
      "metadata": {
        "id": "view-in-github",
        "colab_type": "text"
      },
      "source": [
        "<a href=\"https://colab.research.google.com/github/jillellalavanya/Minor-Project/blob/main/MinorProject.ipynb\" target=\"_parent\"><img src=\"https://colab.research.google.com/assets/colab-badge.svg\" alt=\"Open In Colab\"/></a>"
      ]
    },
    {
      "cell_type": "code",
      "metadata": {
        "colab": {
          "base_uri": "https://localhost:8080/"
        },
        "id": "B0iq9FEjbpWu",
        "outputId": "35665193-bcba-4075-b2c3-ef066036a688"
      },
      "source": [
        "!pip install ipython-autotime\n",
        "%load_ext autotime"
      ],
      "execution_count": 1,
      "outputs": [
        {
          "output_type": "stream",
          "text": [
            "Collecting ipython-autotime\n",
            "  Downloading https://files.pythonhosted.org/packages/b4/c9/b413a24f759641bc27ef98c144b590023c8038dfb8a3f09e713e9dff12c1/ipython_autotime-0.3.1-py2.py3-none-any.whl\n",
            "Requirement already satisfied: ipython in /usr/local/lib/python3.7/dist-packages (from ipython-autotime) (5.5.0)\n",
            "Requirement already satisfied: pygments in /usr/local/lib/python3.7/dist-packages (from ipython->ipython-autotime) (2.6.1)\n",
            "Requirement already satisfied: setuptools>=18.5 in /usr/local/lib/python3.7/dist-packages (from ipython->ipython-autotime) (56.1.0)\n",
            "Requirement already satisfied: prompt-toolkit<2.0.0,>=1.0.4 in /usr/local/lib/python3.7/dist-packages (from ipython->ipython-autotime) (1.0.18)\n",
            "Requirement already satisfied: pexpect; sys_platform != \"win32\" in /usr/local/lib/python3.7/dist-packages (from ipython->ipython-autotime) (4.8.0)\n",
            "Requirement already satisfied: simplegeneric>0.8 in /usr/local/lib/python3.7/dist-packages (from ipython->ipython-autotime) (0.8.1)\n",
            "Requirement already satisfied: decorator in /usr/local/lib/python3.7/dist-packages (from ipython->ipython-autotime) (4.4.2)\n",
            "Requirement already satisfied: traitlets>=4.2 in /usr/local/lib/python3.7/dist-packages (from ipython->ipython-autotime) (5.0.5)\n",
            "Requirement already satisfied: pickleshare in /usr/local/lib/python3.7/dist-packages (from ipython->ipython-autotime) (0.7.5)\n",
            "Requirement already satisfied: wcwidth in /usr/local/lib/python3.7/dist-packages (from prompt-toolkit<2.0.0,>=1.0.4->ipython->ipython-autotime) (0.2.5)\n",
            "Requirement already satisfied: six>=1.9.0 in /usr/local/lib/python3.7/dist-packages (from prompt-toolkit<2.0.0,>=1.0.4->ipython->ipython-autotime) (1.15.0)\n",
            "Requirement already satisfied: ptyprocess>=0.5 in /usr/local/lib/python3.7/dist-packages (from pexpect; sys_platform != \"win32\"->ipython->ipython-autotime) (0.7.0)\n",
            "Requirement already satisfied: ipython-genutils in /usr/local/lib/python3.7/dist-packages (from traitlets>=4.2->ipython->ipython-autotime) (0.2.0)\n",
            "Installing collected packages: ipython-autotime\n",
            "Successfully installed ipython-autotime-0.3.1\n",
            "time: 1.88 ms (started: 2021-05-22 17:08:03 +00:00)\n"
          ],
          "name": "stdout"
        }
      ]
    },
    {
      "cell_type": "code",
      "metadata": {
        "colab": {
          "base_uri": "https://localhost:8080/"
        },
        "id": "Z7LnMRFDb7yh",
        "outputId": "2c1bd42d-7d2d-4790-94dc-37d38e07d74a"
      },
      "source": [
        "!pip install bing-image-downloader"
      ],
      "execution_count": 2,
      "outputs": [
        {
          "output_type": "stream",
          "text": [
            "Collecting bing-image-downloader\n",
            "  Downloading https://files.pythonhosted.org/packages/0d/bf/537a61030b84ae4cd5022d5c7b014fd9bc3ce7c02358919153a6658a61d3/bing_image_downloader-1.0.4-py3-none-any.whl\n",
            "Installing collected packages: bing-image-downloader\n",
            "Successfully installed bing-image-downloader-1.0.4\n",
            "time: 2.73 s (started: 2021-05-22 17:08:08 +00:00)\n"
          ],
          "name": "stdout"
        }
      ]
    },
    {
      "cell_type": "code",
      "metadata": {
        "colab": {
          "base_uri": "https://localhost:8080/"
        },
        "id": "U1fz4OhUcAk_",
        "outputId": "85897028-71df-4207-92da-a1b738ab4dcb"
      },
      "source": [
        "!mkdir images"
      ],
      "execution_count": 3,
      "outputs": [
        {
          "output_type": "stream",
          "text": [
            "time: 113 ms (started: 2021-05-22 17:08:14 +00:00)\n"
          ],
          "name": "stdout"
        }
      ]
    },
    {
      "cell_type": "code",
      "metadata": {
        "colab": {
          "base_uri": "https://localhost:8080/"
        },
        "id": "4Q4CuQRncFNE",
        "outputId": "ec9fc3b3-ffc4-4cb3-a1bd-583faaaa49d1"
      },
      "source": [
        "from bing_image_downloader import downloader\n",
        "downloader.download(\"cabbage\",limit=30,output_dir='images',\n",
        "                    adult_filter_off=True)"
      ],
      "execution_count": 25,
      "outputs": [
        {
          "output_type": "stream",
          "text": [
            "\n",
            "\n",
            "[!!]Indexing page: 1\n",
            "\n",
            "[%] Indexed 10 Images on Page 1.\n",
            "\n",
            "===============================================\n",
            "\n",
            "[%] Downloading Image #1 from https://upload.wikimedia.org/wikipedia/commons/thumb/a/a6/Brassica_oleracea_Helgoland1.jpg/1200px-Brassica_oleracea_Helgoland1.jpg\n",
            "[%] File Downloaded !\n",
            "\n",
            "[%] Downloading Image #2 from https://www.leopoldmuseum.org/media/image/800/69.jpg\n",
            "[%] File Downloaded !\n",
            "\n",
            "[%] Downloading Image #3 from http://www.omafra.gov.on.ca/IPM/images/brassica/diseases/white-rot-cabbage2_zoom.jpg\n",
            "[%] File Downloaded !\n",
            "\n",
            "[%] Downloading Image #4 from http://www.kcn.ne.jp/~ca001/Z28-1\n",
            "[%] File Downloaded !\n",
            "\n",
            "[%] Downloading Image #5 from http://fruttygarden.xyz/wp-content/uploads/2016/07/jobare2.jpg\n",
            "[%] File Downloaded !\n",
            "\n",
            "[%] Downloading Image #6 from http://cdn.shopify.com/s/files/1/1698/1675/products/Carrot_Imperator_1024x1024.jpg?v=1536794020\n",
            "[%] File Downloaded !\n",
            "\n",
            "[%] Downloading Image #7 from https://fastplants.org/wp-content/uploads/2017/02/StandardAlt3.png\n",
            "[%] File Downloaded !\n",
            "\n",
            "[%] Downloading Image #8 from https://www.reed.edu/canyon/natu/plants/images/LYAM01_lg.jpg\n",
            "[%] File Downloaded !\n",
            "\n",
            "[%] Downloading Image #9 from https://s-media-cache-ak0.pinimg.com/736x/34/be/27/34be27a22af5e0a5e55632855760a627--fall-container-gardening-fall-containers.jpg\n",
            "[%] File Downloaded !\n",
            "\n",
            "[%] Downloading Image #10 from https://www.whatsthatbug.com/wp-content/uploads/2013/02/cecropia_cocoon_20070415.jpg\n",
            "[%] File Downloaded !\n",
            "\n",
            "\n",
            "\n",
            "[!!]Indexing page: 2\n",
            "\n",
            "[%] Indexed 10 Images on Page 2.\n",
            "\n",
            "===============================================\n",
            "\n",
            "[%] Downloading Image #11 from https://i.ytimg.com/vi/nbZuz-b2k64/maxresdefault.jpg\n",
            "[%] File Downloaded !\n",
            "\n",
            "[%] Downloading Image #12 from http://germanculture.com.ua/wp-content/uploads/2016/03/rugen-stral-e1459254187562.jpg\n",
            "[%] File Downloaded !\n",
            "\n",
            "[%] Downloading Image #13 from https://selectree.calpoly.edu/images/1200/95/original/sabal-palmetto-leaf.jpg\n",
            "[%] File Downloaded !\n",
            "\n",
            "[%] Downloading Image #14 from https://mcpedb.com/wp-content/uploads/2020/10/The-Backrooms-Map3.png\n",
            "[%] File Downloaded !\n",
            "\n",
            "[%] Downloading Image #15 from http://thegraphicsfairy.com/wp-content/uploads/2013/05/1sagewallpaper002.jpg\n",
            "[%] File Downloaded !\n",
            "\n",
            "[%] Downloading Image #16 from https://www.adriandelsiphoto.com/wp-content/uploads/2014/06/purple-cabbage-monochromatic.jpg\n",
            "[%] File Downloaded !\n",
            "\n",
            "[%] Downloading Image #17 from https://myamazingthings.com/wp-content/uploads/2017/04/rustic-dining-room-design-with-hanging-from-ceiling-indoor-herb-garden-planter-pots-beside-window-with-white-blinds-ideas-966x725.jpg\n",
            "[%] File Downloaded !\n",
            "\n",
            "[%] Downloading Image #18 from http://i.huffpost.com/gadgets/slideshows/339728/slide_339728_3484364_free.jpg\n",
            "[%] File Downloaded !\n",
            "\n",
            "[%] Downloading Image #19 from https://www.tnp.sg/sites/default/files/styles/rl680/public/articles/2014/11/30/NP_20141130_HYGARDEN-ERO_689628.jpg?itok=mjEStONU\n",
            "[%] File Downloaded !\n",
            "\n",
            "[%] Downloading Image #20 from https://cdn.acidcow.com/pics/20150519/bachelor_party_01.jpg\n",
            "[%] File Downloaded !\n",
            "\n",
            "\n",
            "\n",
            "[!!]Indexing page: 3\n",
            "\n",
            "[%] Indexed 9 Images on Page 3.\n",
            "\n",
            "===============================================\n",
            "\n",
            "[%] Downloading Image #21 from https://selectree.calpoly.edu/images/1200/95/original/sabal-palmetto-leaf.jpg\n",
            "[%] File Downloaded !\n",
            "\n",
            "[%] Downloading Image #22 from https://mcpedb.com/wp-content/uploads/2020/10/The-Backrooms-Map3.png\n",
            "[%] File Downloaded !\n",
            "\n",
            "[%] Downloading Image #23 from http://thegraphicsfairy.com/wp-content/uploads/2013/05/1sagewallpaper002.jpg\n",
            "[%] File Downloaded !\n",
            "\n",
            "[%] Downloading Image #24 from https://www.adriandelsiphoto.com/wp-content/uploads/2014/06/purple-cabbage-monochromatic.jpg\n",
            "[%] File Downloaded !\n",
            "\n",
            "[%] Downloading Image #25 from https://myamazingthings.com/wp-content/uploads/2017/04/rustic-dining-room-design-with-hanging-from-ceiling-indoor-herb-garden-planter-pots-beside-window-with-white-blinds-ideas-966x725.jpg\n",
            "[%] File Downloaded !\n",
            "\n",
            "[%] Downloading Image #26 from http://i.huffpost.com/gadgets/slideshows/339728/slide_339728_3484364_free.jpg\n",
            "[%] File Downloaded !\n",
            "\n",
            "[%] Downloading Image #27 from https://www.tnp.sg/sites/default/files/styles/rl680/public/articles/2014/11/30/NP_20141130_HYGARDEN-ERO_689628.jpg?itok=mjEStONU\n",
            "[%] File Downloaded !\n",
            "\n",
            "[%] Downloading Image #28 from https://cdn.acidcow.com/pics/20150519/bachelor_party_01.jpg\n",
            "[%] File Downloaded !\n",
            "\n",
            "[%] Downloading Image #29 from http://germanculture.com.ua/wp-content/uploads/2016/03/rugen-stral-e1459254187562.jpg\n",
            "[%] File Downloaded !\n",
            "\n",
            "\n",
            "\n",
            "[!!]Indexing page: 4\n",
            "\n",
            "[%] Indexed 8 Images on Page 4.\n",
            "\n",
            "===============================================\n",
            "\n",
            "[%] Downloading Image #30 from http://cdn.shopify.com/s/files/1/1698/1675/products/Carrot_Imperator_1024x1024.jpg?v=1536794020\n",
            "[%] File Downloaded !\n",
            "\n",
            "\n",
            "\n",
            "[%] Done. Downloaded 30 images.\n",
            "\n",
            "===============================================\n",
            "\n",
            "time: 10.8 s (started: 2021-05-22 17:13:13 +00:00)\n"
          ],
          "name": "stdout"
        }
      ]
    },
    {
      "cell_type": "code",
      "metadata": {
        "colab": {
          "base_uri": "https://localhost:8080/"
        },
        "id": "iX1qInvYclcI",
        "outputId": "8a22b05f-fd2f-4539-b94d-1e980f3ddb3a"
      },
      "source": [
        "downloader.download(\"blue whale\",limit=30,output_dir='images',\n",
        "                    adult_filter_off=True)"
      ],
      "execution_count": 26,
      "outputs": [
        {
          "output_type": "stream",
          "text": [
            "\n",
            "\n",
            "[!!]Indexing page: 1\n",
            "\n",
            "[%] Indexed 10 Images on Page 1.\n",
            "\n",
            "===============================================\n",
            "\n",
            "[%] Downloading Image #1 from https://www.oceanlight.com/stock-photo/blue-whale-dorsal-fin-picture-16209-437989.jpg\n",
            "[%] File Downloaded !\n",
            "\n",
            "[%] Downloading Image #2 from http://i.ytimg.com/vi/7sxDuaoOBfI/maxresdefault.jpg\n",
            "[%] File Downloaded !\n",
            "\n",
            "[%] Downloading Image #3 from http://mturbogamer.com/wp-content/uploads/2017/02/where-do-blue-whales-live-in-the-world.jpg\n",
            "[%] File Downloaded !\n",
            "\n",
            "[%] Downloading Image #4 from https://media.wired.com/photos/59419da7e9030c15ddbcd84e/master/pass/whale_heart.jpg\n",
            "[Error]Invalid image, not saving https://media.wired.com/photos/59419da7e9030c15ddbcd84e/master/pass/whale_heart.jpg\n",
            "\n",
            "[!] Issue getting: https://media.wired.com/photos/59419da7e9030c15ddbcd84e/master/pass/whale_heart.jpg\n",
            "[!] Error:: No active exception to reraise\n",
            "[%] Downloading Image #4 from https://www.nps.gov/chis/planyourvisit/images/960-5S7W2608a_1.jpg\n",
            "[%] File Downloaded !\n",
            "\n",
            "[%] Downloading Image #5 from https://img.thedailybeast.com/image/upload/c_crop,d_placeholder_euli9k,h_1707,w_3036,x_0,y_0/dpr_2.0/c_limit,w_740/fl_lossy,q_auto/v1492790543/articles/2013/02/05/i-ll-have-the-whale-please-japan-s-unsustainable-whale-hunts/130103-japan-whaling-tease_mm1bqc\n",
            "[%] File Downloaded !\n",
            "\n",
            "[%] Downloading Image #6 from https://wallpapershome.com/images/wallpapers/pacific-sailfish-5120x2880-thailand-indian-ocean-pacific-ocean-1209.jpg\n",
            "[%] File Downloaded !\n",
            "\n",
            "[%] Downloading Image #7 from https://www.magicspoiler.com/wp-content/uploads/2012/01/Headless-Skaab-MTG-Dark-Ascension-265x370.jpg\n",
            "[%] File Downloaded !\n",
            "\n",
            "[%] Downloading Image #8 from http://www.blueangelonline.com/images/secret_language_of_animals_sample_3.jpg\n",
            "[%] File Downloaded !\n",
            "\n",
            "[%] Downloading Image #9 from https://www.gscimport.com/dsn/wwwgscimportcom/commerce/productimages/lg1_004537.jpg\n",
            "[%] File Downloaded !\n",
            "\n",
            "\n",
            "\n",
            "[!!]Indexing page: 2\n",
            "\n",
            "[%] Indexed 10 Images on Page 2.\n",
            "\n",
            "===============================================\n",
            "\n",
            "[%] Downloading Image #10 from https://www.oceanlight.com/stock-photo/blue-whale-dorsal-fin-picture-16209-437989.jpg\n",
            "[%] File Downloaded !\n",
            "\n",
            "[%] Downloading Image #11 from http://i.ytimg.com/vi/7sxDuaoOBfI/maxresdefault.jpg\n",
            "[%] File Downloaded !\n",
            "\n",
            "[%] Downloading Image #12 from http://mturbogamer.com/wp-content/uploads/2017/02/where-do-blue-whales-live-in-the-world.jpg\n",
            "[%] File Downloaded !\n",
            "\n",
            "[%] Downloading Image #13 from https://media.wired.com/photos/59419da7e9030c15ddbcd84e/master/pass/whale_heart.jpg\n",
            "[Error]Invalid image, not saving https://media.wired.com/photos/59419da7e9030c15ddbcd84e/master/pass/whale_heart.jpg\n",
            "\n",
            "[!] Issue getting: https://media.wired.com/photos/59419da7e9030c15ddbcd84e/master/pass/whale_heart.jpg\n",
            "[!] Error:: No active exception to reraise\n",
            "[%] Downloading Image #13 from https://www.nps.gov/chis/planyourvisit/images/960-5S7W2608a_1.jpg\n",
            "[%] File Downloaded !\n",
            "\n",
            "[%] Downloading Image #14 from https://img.thedailybeast.com/image/upload/c_crop,d_placeholder_euli9k,h_1707,w_3036,x_0,y_0/dpr_2.0/c_limit,w_740/fl_lossy,q_auto/v1492790543/articles/2013/02/05/i-ll-have-the-whale-please-japan-s-unsustainable-whale-hunts/130103-japan-whaling-tease_mm1bqc\n",
            "[%] File Downloaded !\n",
            "\n",
            "[%] Downloading Image #15 from https://wallpapershome.com/images/wallpapers/pacific-sailfish-5120x2880-thailand-indian-ocean-pacific-ocean-1209.jpg\n",
            "[%] File Downloaded !\n",
            "\n",
            "[%] Downloading Image #16 from https://www.magicspoiler.com/wp-content/uploads/2012/01/Headless-Skaab-MTG-Dark-Ascension-265x370.jpg\n",
            "[%] File Downloaded !\n",
            "\n",
            "[%] Downloading Image #17 from http://www.blueangelonline.com/images/secret_language_of_animals_sample_3.jpg\n",
            "[%] File Downloaded !\n",
            "\n",
            "[%] Downloading Image #18 from https://www.gscimport.com/dsn/wwwgscimportcom/commerce/productimages/lg1_004537.jpg\n",
            "[%] File Downloaded !\n",
            "\n",
            "\n",
            "\n",
            "[!!]Indexing page: 3\n",
            "\n",
            "[%] Indexed 9 Images on Page 3.\n",
            "\n",
            "===============================================\n",
            "\n",
            "[%] Downloading Image #19 from http://i.ytimg.com/vi/vJvfjiCTvq4/hqdefault.jpg\n",
            "[%] File Downloaded !\n",
            "\n",
            "[%] Downloading Image #20 from https://wallpapershome.com/images/wallpapers/whale-shark-3840x2160-underwater-art-5867.jpg\n",
            "[%] File Downloaded !\n",
            "\n",
            "[%] Downloading Image #21 from http://vuing.com/wp-content/uploads/2013/11/wonderful-beautiful-underwater-photography-Pacific-Ocean-whales-8.jpg\n",
            "[%] File Downloaded !\n",
            "\n",
            "[%] Downloading Image #22 from https://www.hdwallpapers.in/download/sound_waves-2560x1440.jpg\n",
            "[%] File Downloaded !\n",
            "\n",
            "[%] Downloading Image #23 from http://www.magicspoiler.com/wp-content/uploads/2013/05/Colossal-Whale-M14-Spoiler-265x370.jpg\n",
            "[%] File Downloaded !\n",
            "\n",
            "[%] Downloading Image #24 from https://media.immediate.co.uk/volatile/sites/3/2017/11/14514299-low_res-blue-planet-ii-1-e358a08.jpg\n",
            "[%] File Downloaded !\n",
            "\n",
            "[%] Downloading Image #25 from https://www.magicspoiler.com/wp-content/uploads/2018/03/Arcane-Denial-Masters-25-Spoiler-265x370.png\n",
            "[%] File Downloaded !\n",
            "\n",
            "[%] Downloading Image #26 from https://wallpapershome.com/images/wallpapers/thailand-1080x1920-4k-5k-wallpaper-beach-palms-shore-sunset-travel-6484.jpg\n",
            "[%] File Downloaded !\n",
            "\n",
            "[%] Downloading Image #27 from https://creepshots.org/wp-content/uploads/2018/04/teens-party-2-16.jpg\n",
            "[%] File Downloaded !\n",
            "\n",
            "\n",
            "\n",
            "[!!]Indexing page: 4\n",
            "\n",
            "[%] Indexed 8 Images on Page 4.\n",
            "\n",
            "===============================================\n",
            "\n",
            "[%] Downloading Image #28 from https://wallpapershome.com/images/wallpapers/hawksbill-sea-turtle-1440x2560-bahamas-atlantic-pacific-indian-ocean-1238.jpg\n",
            "[%] File Downloaded !\n",
            "\n",
            "[%] Downloading Image #29 from https://news.stanford.edu/news/2007/march14/gifs/Squid_whale.jpg\n",
            "[%] File Downloaded !\n",
            "\n",
            "[%] Downloading Image #30 from http://www.mermaidmelissa.com/wp-content/uploads/2012/10/485783_10151448948803294_353631952_n.jpg\n",
            "[%] File Downloaded !\n",
            "\n",
            "\n",
            "\n",
            "[%] Done. Downloaded 30 images.\n",
            "\n",
            "===============================================\n",
            "\n",
            "time: 16.8 s (started: 2021-05-22 17:13:26 +00:00)\n"
          ],
          "name": "stdout"
        }
      ]
    },
    {
      "cell_type": "code",
      "metadata": {
        "colab": {
          "base_uri": "https://localhost:8080/"
        },
        "id": "5dZNU_8Hcufv",
        "outputId": "27f7f508-3b42-4dc1-fc31-2cfd540dc108"
      },
      "source": [
        "import os\n",
        "import numpy as np\n",
        "import pandas as pd\n",
        "import matplotlib.pyplot as plt\n",
        "from skimage.io import imread\n",
        "from skimage.transform import resize\n",
        "\n",
        "datadir = '/content/images'\n",
        "\n",
        "categories = ['cabbage','blue whale'] \n",
        "target = []\n",
        "images = []\n",
        "flat_data = []\n",
        "\n",
        "for category in categories:\n",
        "  class_num = categories.index(category)\n",
        "  path = os.path.join(datadir,category)\n",
        "  for img in os.listdir(path):\n",
        "    img_array = imread(os.path.join(path,img))\n",
        "\n",
        "    img_resize = resize(img_array,(150,150,3)) \n",
        "    flat_data.append(img_resize.flatten())\n",
        "    images.append(img_resize)\n",
        "    target.append(class_num)\n",
        "\n",
        "\n",
        "flat_data = np.array(flat_data)\n",
        "target = np.array(target)\n",
        "images = np.array(images)\n"
      ],
      "execution_count": 27,
      "outputs": [
        {
          "output_type": "stream",
          "text": [
            "time: 22.7 s (started: 2021-05-22 17:13:58 +00:00)\n"
          ],
          "name": "stdout"
        }
      ]
    },
    {
      "cell_type": "code",
      "metadata": {
        "colab": {
          "base_uri": "https://localhost:8080/"
        },
        "id": "eVt_I-UAc-VY",
        "outputId": "386b8f2c-de23-431b-a51c-ffa3cfee2249"
      },
      "source": [
        "flat_data[0]"
      ],
      "execution_count": 28,
      "outputs": [
        {
          "output_type": "execute_result",
          "data": {
            "text/plain": [
              "array([0.62247216, 0.61917804, 0.44129412, ..., 0.65423608, 0.62623608,\n",
              "       0.43906039])"
            ]
          },
          "metadata": {
            "tags": []
          },
          "execution_count": 28
        },
        {
          "output_type": "stream",
          "text": [
            "time: 3.41 ms (started: 2021-05-22 17:14:26 +00:00)\n"
          ],
          "name": "stdout"
        }
      ]
    },
    {
      "cell_type": "code",
      "metadata": {
        "colab": {
          "base_uri": "https://localhost:8080/"
        },
        "id": "Ds-MwHJVdE4c",
        "outputId": "fdf58622-a1b5-4266-a1fe-eb69c82d4647"
      },
      "source": [
        "target"
      ],
      "execution_count": 29,
      "outputs": [
        {
          "output_type": "execute_result",
          "data": {
            "text/plain": [
              "array([0, 0, 0, 0, 0, 0, 0, 0, 0, 0, 0, 0, 0, 0, 0, 0, 0, 0, 0, 0, 0, 0,\n",
              "       0, 0, 0, 0, 0, 0, 0, 0, 0, 0, 0, 0, 0, 1, 1, 1, 1, 1, 1, 1, 1, 1,\n",
              "       1, 1, 1, 1, 1, 1, 1, 1, 1, 1, 1, 1, 1, 1, 1, 1, 1, 1, 1, 1, 1, 1])"
            ]
          },
          "metadata": {
            "tags": []
          },
          "execution_count": 29
        },
        {
          "output_type": "stream",
          "text": [
            "time: 4.1 ms (started: 2021-05-22 17:14:32 +00:00)\n"
          ],
          "name": "stdout"
        }
      ]
    },
    {
      "cell_type": "code",
      "metadata": {
        "colab": {
          "base_uri": "https://localhost:8080/",
          "height": 299
        },
        "id": "dQ63GEBedIsX",
        "outputId": "8210be24-53b5-4b9b-ed39-cfdc82d8bdd1"
      },
      "source": [
        "unique,count = np.unique(target,return_counts = True)\n",
        "plt.bar(categories,count)"
      ],
      "execution_count": 30,
      "outputs": [
        {
          "output_type": "execute_result",
          "data": {
            "text/plain": [
              "<BarContainer object of 2 artists>"
            ]
          },
          "metadata": {
            "tags": []
          },
          "execution_count": 30
        },
        {
          "output_type": "display_data",
          "data": {
            "image/png": "[encoded data removed]",
            "text/plain": [
              "<Figure size 432x288 with 1 Axes>"
            ]
          },
          "metadata": {
            "tags": [],
            "needs_background": "light"
          }
        },
        {
          "output_type": "stream",
          "text": [
            "time: 120 ms (started: 2021-05-22 17:14:36 +00:00)\n"
          ],
          "name": "stdout"
        }
      ]
    },
    {
      "cell_type": "code",
      "metadata": {
        "colab": {
          "base_uri": "https://localhost:8080/"
        },
        "id": "ffy4QaApdM0O",
        "outputId": "addba7cb-e4e4-4def-f695-080643593933"
      },
      "source": [
        "from sklearn.model_selection import train_test_split\n",
        "x_train,x_test,y_train,y_test = train_test_split(flat_data,target,\n",
        "                                test_size=0.3,random_state=106)"
      ],
      "execution_count": 31,
      "outputs": [
        {
          "output_type": "stream",
          "text": [
            "time: 16 ms (started: 2021-05-22 17:14:43 +00:00)\n"
          ],
          "name": "stdout"
        }
      ]
    },
    {
      "cell_type": "code",
      "metadata": {
        "colab": {
          "base_uri": "https://localhost:8080/"
        },
        "id": "w0sX00WXdQrx",
        "outputId": "792ee684-e155-4ca4-a231-b1ab047a5ff9"
      },
      "source": [
        "from sklearn.model_selection import GridSearchCV\n",
        "from sklearn import svm\n",
        "param_grid = [\n",
        "              {'C':[1,10,100,1000],'kernel':['linear']},\n",
        "               {'C':[1,10,100,1000],'gamma':[0.001,0.0001], 'kernel':['rbf']},\n",
        "]\n",
        "svc = svm.SVC(probability =True)\n",
        "clf = GridSearchCV(svc,param_grid)\n",
        "clf.fit(x_train,y_train)"
      ],
      "execution_count": 32,
      "outputs": [
        {
          "output_type": "execute_result",
          "data": {
            "text/plain": [
              "GridSearchCV(cv=None, error_score=nan,\n",
              "             estimator=SVC(C=1.0, break_ties=False, cache_size=200,\n",
              "                           class_weight=None, coef0=0.0,\n",
              "                           decision_function_shape='ovr', degree=3,\n",
              "                           gamma='scale', kernel='rbf', max_iter=-1,\n",
              "                           probability=True, random_state=None, shrinking=True,\n",
              "                           tol=0.001, verbose=False),\n",
              "             iid='deprecated', n_jobs=None,\n",
              "             param_grid=[{'C': [1, 10, 100, 1000], 'kernel': ['linear']},\n",
              "                         {'C': [1, 10, 100, 1000], 'gamma': [0.001, 0.0001],\n",
              "                          'kernel': ['rbf']}],\n",
              "             pre_dispatch='2*n_jobs', refit=True, return_train_score=False,\n",
              "             scoring=None, verbose=0)"
            ]
          },
          "metadata": {
            "tags": []
          },
          "execution_count": 32
        },
        {
          "output_type": "stream",
          "text": [
            "time: 40 s (started: 2021-05-22 17:14:49 +00:00)\n"
          ],
          "name": "stdout"
        }
      ]
    },
    {
      "cell_type": "code",
      "metadata": {
        "colab": {
          "base_uri": "https://localhost:8080/"
        },
        "id": "pwcNbEridfS8",
        "outputId": "160035fd-12c5-47b8-c650-7b7785c87034"
      },
      "source": [
        "y_pred = clf.predict(x_test)\n",
        "y_pred"
      ],
      "execution_count": 33,
      "outputs": [
        {
          "output_type": "execute_result",
          "data": {
            "text/plain": [
              "array([1, 0, 0, 0, 0, 1, 1, 1, 1, 1, 1, 0, 1, 0, 0, 1, 0, 0, 0, 0])"
            ]
          },
          "metadata": {
            "tags": []
          },
          "execution_count": 33
        },
        {
          "output_type": "stream",
          "text": [
            "time: 67.5 ms (started: 2021-05-22 17:15:36 +00:00)\n"
          ],
          "name": "stdout"
        }
      ]
    },
    {
      "cell_type": "code",
      "metadata": {
        "colab": {
          "base_uri": "https://localhost:8080/"
        },
        "id": "Ae5kf-j9dktV",
        "outputId": "6f5c9ab8-c59e-4028-8068-dfc6e09ee806"
      },
      "source": [
        "y_test"
      ],
      "execution_count": 34,
      "outputs": [
        {
          "output_type": "execute_result",
          "data": {
            "text/plain": [
              "array([1, 0, 0, 1, 0, 1, 1, 1, 0, 1, 1, 0, 1, 0, 1, 1, 0, 0, 0, 0])"
            ]
          },
          "metadata": {
            "tags": []
          },
          "execution_count": 34
        },
        {
          "output_type": "stream",
          "text": [
            "time: 6.08 ms (started: 2021-05-22 17:15:40 +00:00)\n"
          ],
          "name": "stdout"
        }
      ]
    },
    {
      "cell_type": "code",
      "metadata": {
        "colab": {
          "base_uri": "https://localhost:8080/"
        },
        "id": "nJ-T5Ip-dnxY",
        "outputId": "40053ee0-a249-4ac1-a7ef-4fc0a0944389"
      },
      "source": [
        "from sklearn.metrics import accuracy_score,confusion_matrix\n"
      ],
      "execution_count": 35,
      "outputs": [
        {
          "output_type": "stream",
          "text": [
            "time: 996 µs (started: 2021-05-22 17:15:56 +00:00)\n"
          ],
          "name": "stdout"
        }
      ]
    },
    {
      "cell_type": "code",
      "metadata": {
        "colab": {
          "base_uri": "https://localhost:8080/"
        },
        "id": "Mp-RmgdHduAS",
        "outputId": "5dc3535d-a99a-4d36-ee91-3648f468eb87"
      },
      "source": [
        "accuracy_score(y_pred,y_test)"
      ],
      "execution_count": 36,
      "outputs": [
        {
          "output_type": "execute_result",
          "data": {
            "text/plain": [
              "0.85"
            ]
          },
          "metadata": {
            "tags": []
          },
          "execution_count": 36
        },
        {
          "output_type": "stream",
          "text": [
            "time: 5.61 ms (started: 2021-05-22 17:16:00 +00:00)\n"
          ],
          "name": "stdout"
        }
      ]
    },
    {
      "cell_type": "code",
      "metadata": {
        "colab": {
          "base_uri": "https://localhost:8080/"
        },
        "id": "2tDvp8XRdytP",
        "outputId": "e87d5ee9-e257-4284-e2b1-1f66270cbe64"
      },
      "source": [
        "confusion_matrix(y_pred,y_test)\n"
      ],
      "execution_count": 37,
      "outputs": [
        {
          "output_type": "execute_result",
          "data": {
            "text/plain": [
              "array([[9, 2],\n",
              "       [1, 8]])"
            ]
          },
          "metadata": {
            "tags": []
          },
          "execution_count": 37
        },
        {
          "output_type": "stream",
          "text": [
            "time: 8.01 ms (started: 2021-05-22 17:16:11 +00:00)\n"
          ],
          "name": "stdout"
        }
      ]
    },
    {
      "cell_type": "code",
      "metadata": {
        "colab": {
          "base_uri": "https://localhost:8080/"
        },
        "id": "gk4s0s82d6Go",
        "outputId": "0e63b508-5b6d-4933-c4c8-3958d01384e1"
      },
      "source": [
        "import pickle\n",
        "pickle.dump(clf,open('img_model.p','wb'))"
      ],
      "execution_count": 38,
      "outputs": [
        {
          "output_type": "stream",
          "text": [
            "time: 32.1 ms (started: 2021-05-22 17:16:16 +00:00)\n"
          ],
          "name": "stdout"
        }
      ]
    },
    {
      "cell_type": "code",
      "metadata": {
        "colab": {
          "base_uri": "https://localhost:8080/"
        },
        "id": "BhtaJfl7d8dP",
        "outputId": "d0368537-3b7a-4cc8-ef44-75b4b84ac92d"
      },
      "source": [
        "model = pickle.load(open('img_model.p','rb'))"
      ],
      "execution_count": 39,
      "outputs": [
        {
          "output_type": "stream",
          "text": [
            "time: 13.8 ms (started: 2021-05-22 17:16:19 +00:00)\n"
          ],
          "name": "stdout"
        }
      ]
    },
    {
      "cell_type": "code",
      "metadata": {
        "colab": {
          "base_uri": "https://localhost:8080/",
          "height": 337
        },
        "id": "rmi-7thheAiT",
        "outputId": "4a46b7b4-093f-43c6-d665-bb2c256db2bd"
      },
      "source": [
        "flat_data=[]\n",
        "url = input('Enter your url')\n",
        "img = imread(url)\n",
        "img_resize = resize(img,(150,150,3))\n",
        "flat_data.append(img_resize.flatten())\n",
        "flat_data = np.array(flat_data)\n",
        "print(img.shape)\n",
        "plt.imshow(img_resize)\n",
        "y_out = model.predict(flat_data)\n",
        "y_out = categories[y_out[0]]\n",
        "print(f'Predicted output: {y_out}')\n"
      ],
      "execution_count": 42,
      "outputs": [
        {
          "output_type": "stream",
          "text": [
            "Enter your urlhttps://www.hakaimagazine.com/wp-content/uploads/header-whale-dodges-ship.jpg\n",
            "(1201, 2500, 3)\n",
            "Predicted output: blue whale\n"
          ],
          "name": "stdout"
        },
        {
          "output_type": "display_data",
          "data": {
            "image/png": "[encoded data removed]",
            "text/plain": [
              "<Figure size 432x288 with 1 Axes>"
            ]
          },
          "metadata": {
            "tags": [],
            "needs_background": "light"
          }
        },
        {
          "output_type": "stream",
          "text": [
            "time: 13.1 s (started: 2021-05-22 17:17:30 +00:00)\n"
          ],
          "name": "stdout"
        }
      ]
    }
  ]
}